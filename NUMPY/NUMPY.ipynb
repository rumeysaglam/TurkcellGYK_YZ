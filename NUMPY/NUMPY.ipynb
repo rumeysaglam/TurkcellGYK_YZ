{
  "cells": [
    {
      "cell_type": "markdown",
      "metadata": {
        "id": "x68vNnucMsGs"
      },
      "source": [
        "*03.03.2025*\n",
        "\n",
        "# **NUMPY**\n",
        "\n",
        "NumPy (Numerical Python), Python programlama dilinde bilimsel hesaplama yapmak için geliştirilmiş açık kaynaklı bir kütüphanedir. Özellikle çok boyutlu diziler (array) ve matris işlemleri için çok güçlüdür."
      ]
    },
    {
      "cell_type": "code",
      "execution_count": 1,
      "metadata": {
        "id": "XRtWtwX7M0wp"
      },
      "outputs": [],
      "source": [
        "import numpy as np"
      ]
    },
    {
      "cell_type": "markdown",
      "metadata": {
        "id": "VOtg_BztwJtg"
      },
      "source": [
        "NumPy’nin temel veri yapısı ndarray (n-dimensional array) yani çok boyutlu dizidir. Python listelerine benzer ama daha güçlü ve hızlıdır."
      ]
    },
    {
      "cell_type": "code",
      "execution_count": 2,
      "metadata": {
        "colab": {
          "base_uri": "https://localhost:8080/"
        },
        "id": "gGZdNNj6vzBa",
        "outputId": "55ce1b1c-9e6b-401f-d304-1bf963a4bde2"
      },
      "outputs": [
        {
          "name": "stdout",
          "output_type": "stream",
          "text": [
            "[1 2 3 4 5 6 7 8 9]\n",
            "<class 'numpy.ndarray'>\n"
          ]
        }
      ],
      "source": [
        "# Basit bir NumPy dizisi (1 boyutlu)\n",
        "\n",
        "#array1 = np.array([1, 2, 3, 4, 5])\n",
        "\n",
        "list1 = [1, 2, 3, 4, 5, 6, 7, 8, 9]\n",
        "array1 = np.array(list1)\n",
        "\n",
        "print(array1)\n",
        "print(type(array1))"
      ]
    },
    {
      "cell_type": "code",
      "execution_count": 4,
      "metadata": {
        "colab": {
          "base_uri": "https://localhost:8080/"
        },
        "id": "OLmi0VyrNNlF",
        "outputId": "06c42256-d236-48f8-fdb1-b9c32db62926"
      },
      "outputs": [
        {
          "name": "stdout",
          "output_type": "stream",
          "text": [
            "[[1 2 3]\n",
            " [4 5 6]]\n"
          ]
        }
      ],
      "source": [
        "# 2D dizi\n",
        "#matrix\n",
        "array2D = np.array([[1, 2, 3], [4, 5, 6]]) # 2 satır , 3 sütun\n",
        "print(array2D)"
      ]
    },
    {
      "cell_type": "code",
      "execution_count": 5,
      "metadata": {
        "colab": {
          "base_uri": "https://localhost:8080/"
        },
        "id": "RL7U_K_QN917",
        "outputId": "b145cb95-f999-491f-b144-372835671fe1"
      },
      "outputs": [
        {
          "name": "stdout",
          "output_type": "stream",
          "text": [
            "[[[ 1  2  3]\n",
            "  [ 4  5  6]]\n",
            "\n",
            " [[ 7  8  9]\n",
            "  [10 11 12]]]\n"
          ]
        }
      ],
      "source": [
        "# 3 boyutlu\n",
        "#tensor\n",
        "array3D = np.array([[[1, 2, 3], [4, 5, 6]], [[7, 8, 9], [10, 11, 12]]])\n",
        "print(array3D)"
      ]
    },
    {
      "cell_type": "code",
      "execution_count": 6,
      "metadata": {
        "colab": {
          "base_uri": "https://localhost:8080/"
        },
        "id": "vH7otuEIOVUp",
        "outputId": "f32c7ec1-be42-402f-e6ed-4e423d3fc2fc"
      },
      "outputs": [
        {
          "name": "stdout",
          "output_type": "stream",
          "text": [
            "(9,)\n",
            "(2, 3)\n",
            "(2, 2, 3)\n"
          ]
        }
      ],
      "source": [
        " # Dizinin şekli (satır, sütun)\n",
        "print(array1.shape)\n",
        "print(array2D.shape)\n",
        "print(array3D.shape)"
      ]
    },
    {
      "cell_type": "code",
      "execution_count": 7,
      "metadata": {
        "colab": {
          "base_uri": "https://localhost:8080/"
        },
        "id": "ZMNL7u9XxCvB",
        "outputId": "d2336064-7f3a-42a5-e40a-cddd0a7e5043"
      },
      "outputs": [
        {
          "name": "stdout",
          "output_type": "stream",
          "text": [
            "1\n",
            "2\n",
            "3\n"
          ]
        }
      ],
      "source": [
        "# Boyut sayısı (1D, 2D, 3D vs.)\n",
        "print(array1.ndim)\n",
        "print(array2D.ndim)\n",
        "print(array3D.ndim)"
      ]
    },
    {
      "cell_type": "code",
      "execution_count": 8,
      "metadata": {
        "colab": {
          "base_uri": "https://localhost:8080/"
        },
        "id": "EOjMRwUUxKcJ",
        "outputId": "b0cf1885-63eb-4d35-9456-091214034294"
      },
      "outputs": [
        {
          "name": "stdout",
          "output_type": "stream",
          "text": [
            "9\n",
            "6\n",
            "12\n"
          ]
        }
      ],
      "source": [
        "# Eleman sayısı\n",
        "print(array1.size)\n",
        "print(array2D.size)\n",
        "print(array3D.size)"
      ]
    },
    {
      "cell_type": "code",
      "execution_count": 9,
      "metadata": {
        "colab": {
          "base_uri": "https://localhost:8080/"
        },
        "id": "CJ-1G9n2xRbJ",
        "outputId": "c00d09f0-154c-4415-cffc-eb3867f00f46"
      },
      "outputs": [
        {
          "name": "stdout",
          "output_type": "stream",
          "text": [
            "int64\n",
            "int64\n",
            "int64\n"
          ]
        }
      ],
      "source": [
        "# Elemanların veri tipi\n",
        "print(array1.dtype)\n",
        "print(array2D.dtype)\n",
        "print(array3D.dtype)"
      ]
    },
    {
      "cell_type": "code",
      "execution_count": 10,
      "metadata": {
        "colab": {
          "base_uri": "https://localhost:8080/"
        },
        "id": "qPYXq_beO4gl",
        "outputId": "b03829f7-edaf-491f-9ca1-7bc17645077a"
      },
      "outputs": [
        {
          "name": "stdout",
          "output_type": "stream",
          "text": [
            "[[10000.56 20000.   30000.   40000.  ]\n",
            " [    0.     100.     100.     100.  ]\n",
            " [ 5000.   15000.   25000.   35000.  ]]\n"
          ]
        }
      ],
      "source": [
        "annualSalesAndImprovements = np.array([[10000.56, 20000, 30000, 40000], [0, 100, 100, 100], [5000, 15000, 25000, 35000]])\n",
        "print(annualSalesAndImprovements)"
      ]
    },
    {
      "cell_type": "code",
      "execution_count": 12,
      "metadata": {
        "colab": {
          "base_uri": "https://localhost:8080/"
        },
        "id": "sAabnmy6P1qI",
        "outputId": "d59ad262-114b-489f-b2f4-b5736a0f32c2"
      },
      "outputs": [
        {
          "data": {
            "text/plain": [
              "12"
            ]
          },
          "execution_count": 12,
          "metadata": {},
          "output_type": "execute_result"
        }
      ],
      "source": [
        "annualSalesAndImprovements.size"
      ]
    },
    {
      "cell_type": "code",
      "execution_count": 13,
      "metadata": {
        "colab": {
          "base_uri": "https://localhost:8080/"
        },
        "id": "DS0qbkgXP5Me",
        "outputId": "a1778c10-5cb7-460d-b629-2108dadc3216"
      },
      "outputs": [
        {
          "data": {
            "text/plain": [
              "dtype('float64')"
            ]
          },
          "execution_count": 13,
          "metadata": {},
          "output_type": "execute_result"
        }
      ],
      "source": [
        "annualSalesAndImprovements.dtype"
      ]
    },
    {
      "cell_type": "code",
      "execution_count": 14,
      "metadata": {
        "colab": {
          "base_uri": "https://localhost:8080/"
        },
        "id": "JrfJFK9zQCkl",
        "outputId": "23882d36-1dcd-4ca4-ba53-b848d619f228"
      },
      "outputs": [
        {
          "data": {
            "text/plain": [
              "2"
            ]
          },
          "execution_count": 14,
          "metadata": {},
          "output_type": "execute_result"
        }
      ],
      "source": [
        "annualSalesAndImprovements.ndim #boyutunu verir."
      ]
    },
    {
      "cell_type": "markdown",
      "metadata": {
        "id": "fP8eVS5zxvJ7"
      },
      "source": [
        "**Sıfırdan Dizi Oluşturma**\n",
        "\n",
        "NumPy’nin sunduğu bazı hazır fonksiyonlarla farklı şekillerde diziler oluşturabiliriz:"
      ]
    },
    {
      "cell_type": "code",
      "execution_count": 15,
      "metadata": {
        "colab": {
          "base_uri": "https://localhost:8080/"
        },
        "id": "nlzpiw48x7_p",
        "outputId": "52cb4ef8-3be8-4e91-cabd-fc7e7ada2c55"
      },
      "outputs": [
        {
          "name": "stdout",
          "output_type": "stream",
          "text": [
            "[[0. 0. 0.]\n",
            " [0. 0. 0.]\n",
            " [0. 0. 0.]]\n",
            "[[1. 1. 1. 1.]\n",
            " [1. 1. 1. 1.]]\n",
            "[[7 7]\n",
            " [7 7]]\n",
            "[[1. 0. 0.]\n",
            " [0. 1. 0.]\n",
            " [0. 0. 1.]]\n",
            "[0 2 4 6 8]\n",
            "[0.   0.25 0.5  0.75 1.  ]\n"
          ]
        }
      ],
      "source": [
        "print(np.zeros((3, 3)))       # 3x3'lük sıfır matrisi\n",
        "print(np.ones((2, 4)))        # 2x4'lük birler matrisi\n",
        "print(np.full((2, 2), 7))     # 2x2'lik 7'lerden oluşan matris\n",
        "print(np.eye(3))              # 3x3'lük birim matris (kimlik matrisi)\n",
        "print(np.arange(0, 10, 2))    # 0'dan 10'a kadar 2'şer artan dizi\n",
        "print(np.linspace(0, 1, 5))   # 0 ile 1 arasında eşit aralıklı 5 sayı"
      ]
    },
    {
      "cell_type": "code",
      "execution_count": 16,
      "metadata": {
        "colab": {
          "base_uri": "https://localhost:8080/"
        },
        "id": "e-HDuoADRYVt",
        "outputId": "6615479c-a900-4156-8693-8a37936eed66"
      },
      "outputs": [
        {
          "data": {
            "text/plain": [
              "array([[0., 0., 0.],\n",
              "       [0., 0., 0.],\n",
              "       [0., 0., 0.],\n",
              "       [0., 0., 0.],\n",
              "       [0., 0., 0.]])"
            ]
          },
          "execution_count": 16,
          "metadata": {},
          "output_type": "execute_result"
        }
      ],
      "source": [
        "np.zeros((5, 3)) # 5x3 lük sıfır matris"
      ]
    },
    {
      "cell_type": "code",
      "execution_count": 17,
      "metadata": {
        "colab": {
          "base_uri": "https://localhost:8080/"
        },
        "id": "cqXVTllbRvAI",
        "outputId": "c474c304-852d-4d9a-a45f-17e0776709e5"
      },
      "outputs": [
        {
          "name": "stdout",
          "output_type": "stream",
          "text": [
            "[0. 0. 0. 0. 0.]\n"
          ]
        }
      ],
      "source": [
        "sales = np.zeros((5,)) #1x5 lik sıfır matris\n",
        "print(sales)"
      ]
    },
    {
      "cell_type": "code",
      "execution_count": 18,
      "metadata": {
        "colab": {
          "base_uri": "https://localhost:8080/"
        },
        "id": "C6hfp1ODSado",
        "outputId": "82a5ad3a-565a-48a7-89d6-f60d521d1da2"
      },
      "outputs": [
        {
          "name": "stdout",
          "output_type": "stream",
          "text": [
            "[ 0.  0. 10.  0.  0.]\n"
          ]
        }
      ],
      "source": [
        "# Değer atar\n",
        "sales[2] = 10\n",
        "print(sales)"
      ]
    },
    {
      "cell_type": "code",
      "execution_count": 19,
      "metadata": {
        "colab": {
          "base_uri": "https://localhost:8080/"
        },
        "id": "4Z436tt4Sf6y",
        "outputId": "871668b3-4318-4b87-8579-f38c2dc212bb"
      },
      "outputs": [
        {
          "name": "stdout",
          "output_type": "stream",
          "text": [
            "10.0\n",
            "0.0\n"
          ]
        }
      ],
      "source": [
        "# Okur\n",
        "print(sales[2])\n",
        "print(sales[-1])"
      ]
    },
    {
      "cell_type": "code",
      "execution_count": 21,
      "metadata": {
        "colab": {
          "base_uri": "https://localhost:8080/"
        },
        "id": "K4IOqpErSks-",
        "outputId": "72e920da-d813-4f94-ded7-5a66db5dbc81"
      },
      "outputs": [
        {
          "name": "stdout",
          "output_type": "stream",
          "text": [
            "[1. 1. 1. 1. 1.]\n"
          ]
        }
      ],
      "source": [
        "sales2 = np.ones((5,)) # 1x5 lik birler matrisi\n",
        "print(sales2)"
      ]
    },
    {
      "cell_type": "code",
      "execution_count": 22,
      "metadata": {
        "colab": {
          "base_uri": "https://localhost:8080/"
        },
        "id": "fA_lpYH2TUE6",
        "outputId": "3bc37ced-0efa-4224-c63f-0e6d1db7a004"
      },
      "outputs": [
        {
          "data": {
            "text/plain": [
              "array([1, 4, 7])"
            ]
          },
          "execution_count": 22,
          "metadata": {},
          "output_type": "execute_result"
        }
      ],
      "source": [
        "np.arange(1, 10, 3) #sayılar üretir. (1 den 10 a kadar 3'er artan dizi)"
      ]
    },
    {
      "cell_type": "code",
      "execution_count": 24,
      "metadata": {
        "colab": {
          "base_uri": "https://localhost:8080/"
        },
        "id": "flhsthRlTY7_",
        "outputId": "b3c3ede3-c77b-4cc7-8e4a-801d01433faa"
      },
      "outputs": [
        {
          "data": {
            "text/plain": [
              "array([0.  , 0.25, 0.5 , 0.75, 1.  ])"
            ]
          },
          "execution_count": 24,
          "metadata": {},
          "output_type": "execute_result"
        }
      ],
      "source": [
        "np.linspace(0, 1, 5) #aralık üretir. (0 ile 1 (dahil) arası eşit aralıklı beş sayı)"
      ]
    },
    {
      "cell_type": "markdown",
      "metadata": {
        "id": "QZ_XA8b20A_y"
      },
      "source": [
        "np.random.rand() -> NumPy'ın rastgele sayı üretme fonksiyonu."
      ]
    },
    {
      "cell_type": "code",
      "execution_count": 25,
      "metadata": {
        "colab": {
          "base_uri": "https://localhost:8080/"
        },
        "id": "a6_5k-o_Txqo",
        "outputId": "d78c08ba-9a23-4cea-f8b0-18415e81c7fd"
      },
      "outputs": [
        {
          "data": {
            "text/plain": [
              "array([[0.939237  , 0.33274738, 0.9190465 , 0.9045357 ],\n",
              "       [0.90091443, 0.61549566, 0.85260361, 0.54264661],\n",
              "       [0.95564024, 0.00414186, 0.31058719, 0.53671056],\n",
              "       [0.92428632, 0.97469461, 0.62459534, 0.77521619]])"
            ]
          },
          "execution_count": 25,
          "metadata": {},
          "output_type": "execute_result"
        }
      ],
      "source": [
        "np.random.rand(4, 4) # 0 ile 1 arasında rastgele sayılar üretir(4x4)."
      ]
    },
    {
      "cell_type": "markdown",
      "metadata": {
        "id": "cCq-7vtQ0fZx"
      },
      "source": [
        "Tam sayı üretmek için np.random.randint() fonksiyonunu kullanabiliriz:"
      ]
    },
    {
      "cell_type": "code",
      "execution_count": 27,
      "metadata": {
        "colab": {
          "base_uri": "https://localhost:8080/"
        },
        "id": "mNzgxcC3UVWi",
        "outputId": "376bbbbd-eb89-4ab0-8e2a-6286ed43eb88"
      },
      "outputs": [
        {
          "data": {
            "text/plain": [
              "array([[34, 65, 78, 40],\n",
              "       [ 7, 93, 99, 37],\n",
              "       [54, 82, 50, 71],\n",
              "       [76, 89, 64, 84]])"
            ]
          },
          "execution_count": 27,
          "metadata": {},
          "output_type": "execute_result"
        }
      ],
      "source": [
        "np.random.randint(1, 100, (4, 4)) # 1 ile 100 arasında rastgele int sayılar üretir (4x4)."
      ]
    },
    {
      "cell_type": "code",
      "execution_count": 39,
      "metadata": {
        "colab": {
          "base_uri": "https://localhost:8080/"
        },
        "id": "FmtaoLgq3Vm-",
        "outputId": "00ced5b7-9019-44ae-f0f2-89996d78dc60"
      },
      "outputs": [
        {
          "name": "stdout",
          "output_type": "stream",
          "text": [
            "26\n"
          ]
        }
      ],
      "source": [
        "random_int = np.random.randint(0, 100)  # 0 ile 100 arasında bir sayı\n",
        "print(random_int)"
      ]
    },
    {
      "cell_type": "code",
      "execution_count": 38,
      "metadata": {
        "colab": {
          "base_uri": "https://localhost:8080/"
        },
        "id": "EbK_uJHJ13ll",
        "outputId": "83a2902f-977d-490e-df88-583f678b0757"
      },
      "outputs": [
        {
          "name": "stdout",
          "output_type": "stream",
          "text": [
            "[[17.42885451 10.80748801 13.36522544 18.17643122]\n",
            " [14.79534821 18.09125475 17.4519186  12.62672217]\n",
            " [16.69859197 16.75349257 11.97527347 14.15817448]\n",
            " [14.21734356 14.87889349 16.47217471 15.30025306]]\n"
          ]
        }
      ],
      "source": [
        "#Eğer 0-1 Aralığı Dışında Sayılar İstersek\n",
        "#Örneğin 10 ile 20 arasında rastgele sayılar istiyorsak:\n",
        "\n",
        "random_scaled = 10 + (np.random.rand(4, 4) * 10)\n",
        "print(random_scaled)\n",
        "\n",
        "#np.random.rand(4, 4) → [0, 1) aralığında sayılar üretiyor.\n",
        "#*10 → Bu sayıları [0, 10) aralığına genişletiyor.\n",
        "#+10 → Sayıları 10 ekleyerek [10, 20) aralığına taşıyor."
      ]
    },
    {
      "cell_type": "code",
      "execution_count": 30,
      "metadata": {
        "colab": {
          "base_uri": "https://localhost:8080/"
        },
        "id": "UCReozr1UgK8",
        "outputId": "deb7c062-8d2e-4405-c8c0-fc958d62f659"
      },
      "outputs": [
        {
          "name": "stdout",
          "output_type": "stream",
          "text": [
            "[[1 2 3]\n",
            " [4 5 6]]\n"
          ]
        }
      ],
      "source": [
        "print(array2D)"
      ]
    },
    {
      "cell_type": "code",
      "execution_count": 31,
      "metadata": {
        "colab": {
          "base_uri": "https://localhost:8080/"
        },
        "id": "zkoEJ7Lt1Q66",
        "outputId": "94878028-2f52-4ce0-cf83-0ef29abd86d5"
      },
      "outputs": [
        {
          "data": {
            "text/plain": [
              "1"
            ]
          },
          "execution_count": 31,
          "metadata": {},
          "output_type": "execute_result"
        }
      ],
      "source": [
        "array2D[0, 0] # İlk satır, ilk sütun"
      ]
    },
    {
      "cell_type": "code",
      "execution_count": 32,
      "metadata": {
        "colab": {
          "base_uri": "https://localhost:8080/"
        },
        "id": "V05RiBjA1QGB",
        "outputId": "0fc0d30c-474f-40dc-a5d2-3e0c8857a5d9"
      },
      "outputs": [
        {
          "data": {
            "text/plain": [
              "6"
            ]
          },
          "execution_count": 32,
          "metadata": {},
          "output_type": "execute_result"
        }
      ],
      "source": [
        "array2D[1, 2] # 2. satır ve 3. sütunda bulunan elemanı alır."
      ]
    },
    {
      "cell_type": "code",
      "execution_count": 34,
      "metadata": {
        "colab": {
          "base_uri": "https://localhost:8080/"
        },
        "id": "j6RxsAn21pmP",
        "outputId": "5411da59-5f64-42f0-fa2d-0a4f9b9ca8be"
      },
      "outputs": [
        {
          "name": "stdout",
          "output_type": "stream",
          "text": [
            "[[2 3]\n",
            " [5 6]]\n"
          ]
        }
      ],
      "source": [
        "print(array2D[0:2, 1:3])  # İlk 2 satır, 1. ve 2. sütunlar"
      ]
    },
    {
      "cell_type": "markdown",
      "metadata": {
        "id": "8WzltEZ13kcf"
      },
      "source": [
        "**Diziler Üzerinde Dilimleme ve İndeksleme**"
      ]
    },
    {
      "cell_type": "code",
      "execution_count": 41,
      "metadata": {
        "colab": {
          "base_uri": "https://localhost:8080/"
        },
        "id": "KeJ9u1REYrFy",
        "outputId": "93984485-6b53-4caa-b9ae-0dd59e484e22"
      },
      "outputs": [
        {
          "name": "stdout",
          "output_type": "stream",
          "text": [
            "10\n",
            "100\n",
            "[20 30 40]\n",
            "[10 20 30]\n",
            "[10 30 50 70 90]\n",
            "[30 40 50]\n",
            "[10 20 30 40 50]\n",
            "[ 60  70  80  90 100]\n"
          ]
        }
      ],
      "source": [
        "array10 = np.array([10, 20, 30, 40, 50, 60, 70, 80, 90,100])\n",
        "\n",
        "print(array10[0])      # İlk eleman\n",
        "print(array10[-1])     # Son eleman\n",
        "print(array10[1:4])    # 1. indekdeki elemandan 4. elemana kadar (4 dahil değil)\n",
        "print(array10[:3])     # İlk 3 eleman\n",
        "print(array10[::2])    # 2'şer atlayarak elemanlar\n",
        "\n",
        "print(array10[2:5])    # 2. indekdeki elemandan 5. elemana kadar (5 dahil değil)\n",
        "print(array10[:5])     # ilk 5 eleman\n",
        "print(array10[5:])     # son 5 eleman"
      ]
    },
    {
      "cell_type": "markdown",
      "metadata": {
        "id": "tuCuss2Z4zEM"
      },
      "source": [
        "**Dizi Üzerinde İşlemler**"
      ]
    },
    {
      "cell_type": "code",
      "execution_count": 43,
      "metadata": {
        "colab": {
          "base_uri": "https://localhost:8080/"
        },
        "id": "LmN2GOmrZHlE",
        "outputId": "4ecc4512-55f6-4eab-91c4-fed6af2210cb"
      },
      "outputs": [
        {
          "name": "stdout",
          "output_type": "stream",
          "text": [
            "[ 110  220  330  440  550  660  770  880  990 1100]\n",
            "[ -90 -180 -270 -360 -450 -540 -630 -720 -810 -900]\n",
            "[  1000   4000   9000  16000  25000  36000  49000  64000  81000 100000]\n",
            "[0.1 0.1 0.1 0.1 0.1 0.1 0.1 0.1 0.1 0.1]\n",
            "[  100   400   900  1600  2500  3600  4900  6400  8100 10000]\n",
            "[ 3.16227766  4.47213595  5.47722558  6.32455532  7.07106781  7.74596669\n",
            "  8.36660027  8.94427191  9.48683298 10.        ]\n"
          ]
        }
      ],
      "source": [
        "array11 = np.array([10, 20, 30, 40, 50, 60, 70, 80, 90,100])\n",
        "array12 = np.array([100, 200, 300, 400, 500, 600, 700, 800, 900 ,1000])\n",
        "\n",
        "print(array11 + array12)\n",
        "print(array11 - array12)\n",
        "print(array11 * array12)\n",
        "print(array11 / array12)\n",
        "print(array11 ** 2)  # Üs alma\n",
        "\n",
        "sqrtOfArray11 = np.sqrt(array11) #karekök alma\n",
        "print(sqrtOfArray11)"
      ]
    },
    {
      "cell_type": "markdown",
      "metadata": {
        "id": "9P7NfTSS5Tv4"
      },
      "source": [
        "**İstatistiksel İşlemler**"
      ]
    },
    {
      "cell_type": "code",
      "execution_count": 44,
      "metadata": {
        "colab": {
          "base_uri": "https://localhost:8080/"
        },
        "id": "7bzR3uMb5XJQ",
        "outputId": "b229d39e-4e02-406c-8ac0-084b7c06fad4"
      },
      "outputs": [
        {
          "name": "stdout",
          "output_type": "stream",
          "text": [
            "3.0\n",
            "3.0\n",
            "1.4142135623730951\n",
            "15\n",
            "5\n",
            "1\n"
          ]
        }
      ],
      "source": [
        "c = np.array([1, 2, 3, 4, 5])\n",
        "\n",
        "print(np.mean(c))    # Ortalama\n",
        "print(np.median(c))  # Medyan\n",
        "print(np.std(c))     # Standart sapma\n",
        "print(np.sum(c))     # Toplam\n",
        "print(np.max(c))     # Maksimum değer\n",
        "print(np.min(c))     # Minimum değer"
      ]
    },
    {
      "cell_type": "markdown",
      "metadata": {
        "id": "VZ2JKTnj5iBr"
      },
      "source": [
        "**Şekil Değiştirme (Reshaping)**"
      ]
    },
    {
      "cell_type": "code",
      "execution_count": 45,
      "metadata": {
        "colab": {
          "base_uri": "https://localhost:8080/"
        },
        "id": "gYjnygNM5jsw",
        "outputId": "4cbf744b-b5d8-4671-8007-e17e6039823b"
      },
      "outputs": [
        {
          "name": "stdout",
          "output_type": "stream",
          "text": [
            "[[1 2 3]\n",
            " [4 5 6]]\n"
          ]
        }
      ],
      "source": [
        "e = np.array([1, 2, 3, 4, 5, 6])\n",
        "\n",
        "reshaped = e.reshape(2, 3)    # 2 satır, 3 sütun\n",
        "print(reshaped)"
      ]
    },
    {
      "cell_type": "markdown",
      "metadata": {
        "id": "xWNI8WwC5tjD"
      },
      "source": [
        "**Dizi Birleştirme ve Ayırma**"
      ]
    },
    {
      "cell_type": "code",
      "execution_count": 46,
      "metadata": {
        "colab": {
          "base_uri": "https://localhost:8080/"
        },
        "id": "WhEhU8zQ5u2T",
        "outputId": "86b783c3-687a-49dc-feb2-24c0fccc270a"
      },
      "outputs": [
        {
          "name": "stdout",
          "output_type": "stream",
          "text": [
            "[1 2 3 4 5 6]\n",
            "[array([1, 2]), array([3])]\n"
          ]
        }
      ],
      "source": [
        "x = np.array([1, 2, 3])\n",
        "y = np.array([4, 5, 6])\n",
        "\n",
        "# Birleştirme\n",
        "print(np.concatenate([x, y]))\n",
        "\n",
        "# Ayırma\n",
        "z = np.array_split(x, 2)\n",
        "print(z)"
      ]
    },
    {
      "cell_type": "markdown",
      "metadata": {
        "id": "r2GAW1ZNaIEX"
      },
      "source": [
        "**Homework** (03.03.2025)\n",
        "\n",
        "Numpy'da aşağıdaki işlemleri nasıl yaparım? Ar-ge\n",
        "\n",
        "Kural: Gerçek hayat verisi ve isimlendirme\n",
        "*   Matris Çarpımı\n",
        "*   Tranpoz Nedir? Nasıl Yapılır?\n",
        "*   Reshaping and Flattening\n",
        "*   Concatination, hstach, vstack"
      ]
    },
    {
      "cell_type": "markdown",
      "metadata": {
        "id": "BwocOtDp6U_L"
      },
      "source": [
        "**Matris Çarpımı (Matrix Multiplication)**\n",
        "\n",
        "Matris çarpımı, lineer cebirde önemli bir işlemdir.\n",
        "\n",
        "* Birinci matrisin birinci satırı ile ikinci matrisin birinci sütunundaki değerler tek tek çarpılıp toplanır.\n",
        "\n",
        "* Matris çarpımı yapabilmek için birinci matrisin sütun sayısı ile ikinci matrisin satır sayısı eşit olmalıdır. (2x3 - 3x2)\n",
        "\n",
        "* NumPy’de ' np.dot() ' fonksiyonu veya ' @ ' operatörü ile yapılır."
      ]
    },
    {
      "cell_type": "code",
      "execution_count": 49,
      "metadata": {
        "colab": {
          "base_uri": "https://localhost:8080/"
        },
        "id": "wfB73no36cJw",
        "outputId": "f6f6c82d-845e-4d77-c1fa-c4968d180bd5"
      },
      "outputs": [
        {
          "name": "stdout",
          "output_type": "stream",
          "text": [
            "[[1 2 3]\n",
            " [4 5 6]]\n",
            "@\n",
            "[[ 7  8]\n",
            " [ 9 10]\n",
            " [11 12]]\n",
            "=\n",
            "[[ 58  64]\n",
            " [139 154]]\n"
          ]
        }
      ],
      "source": [
        "A = np.array([[1, 2, 3],[4, 5, 6]])\n",
        "B = np.array([[7, 8],[9, 10],[11, 12]])\n",
        "\n",
        "print(A)\n",
        "print(\"@\")\n",
        "print(B)\n",
        "\n",
        "C = A @ B\n",
        "# veya\n",
        "C=np.dot(A,B)\n",
        "\n",
        "print(\"=\")\n",
        "print(C)"
      ]
    },
    {
      "cell_type": "markdown",
      "metadata": {
        "id": "KW9F78Nq-3HM"
      },
      "source": [
        "Gerçek Hayat Örnekleri"
      ]
    },
    {
      "cell_type": "code",
      "execution_count": 50,
      "metadata": {
        "colab": {
          "base_uri": "https://localhost:8080/"
        },
        "id": "wB4V5OwE8LC6",
        "outputId": "38734f49-dea7-4b73-dd5b-34b037837bb9"
      },
      "outputs": [
        {
          "name": "stdout",
          "output_type": "stream",
          "text": [
            "[[1.2 1.5]\n",
            " [1.3 1.7]\n",
            " [1.4 1.8]]\n",
            "@\n",
            "[[100  90]\n",
            " [ 85  95]]\n",
            "=\n",
            "[[247.5 250.5]\n",
            " [274.5 278.5]\n",
            " [293.  297. ]]\n"
          ]
        }
      ],
      "source": [
        "# Bir şirkette çalışanların maaş katsayısı ile performans puanlarına göre bonus hesaplaması.\n",
        "\n",
        "# Maaş katsayıları (3 çalışan)\n",
        "salary_coefficients = np.array([[1.2, 1.5], [1.3, 1.7], [1.4, 1.8]])\n",
        "\n",
        "# Performans puanları (2 kriter)\n",
        "performance_scores = np.array([[100, 90], [85, 95]])\n",
        "\n",
        "print(salary_coefficients)\n",
        "print(\"@\")\n",
        "print(performance_scores)\n",
        "\n",
        "# Matris çarpımı\n",
        "bonuses = np.dot(salary_coefficients, performance_scores)\n",
        "\n",
        "print(\"=\")\n",
        "print(bonuses)"
      ]
    },
    {
      "cell_type": "markdown",
      "metadata": {
        "id": "l8p3AnCS8qWB"
      },
      "source": [
        "**Transpoz (Transpose)**\n",
        "\n",
        "- NumPy'da transpose, bir matrisi satırlarını sütun, sütunlarını satır yaparak döndürme işlemidir.\n",
        "\n",
        "- Transpoz işlemi için ' .T ' veya ' np.transpose() ' kullanılabilir.\n",
        "\n",
        "**Özellikler:**\n",
        " - Satır sayısı sütun, sütun sayısı satır olur.\n",
        " - (m × n) boyutundaki bir matrisin transpozu (n × m) olur.\n",
        " - Transpoz işlemi, matris çarpımı, görüntü işleme ve veri dönüşümü gibi birçok alanda kullanılır."
      ]
    },
    {
      "cell_type": "code",
      "execution_count": 51,
      "metadata": {
        "colab": {
          "base_uri": "https://localhost:8080/"
        },
        "id": "ZNvCzXBq8yii",
        "outputId": "845820f1-65a6-4c11-e2e0-823d19e2a883"
      },
      "outputs": [
        {
          "name": "stdout",
          "output_type": "stream",
          "text": [
            "[[1 4]\n",
            " [2 5]\n",
            " [3 6]]\n"
          ]
        }
      ],
      "source": [
        "A = np.array([[1, 2, 3],\n",
        "              [4, 5, 6]])\n",
        "\n",
        "A_transpose = A.T  # veya np.transpose(A)\n",
        "print(A_transpose)"
      ]
    },
    {
      "cell_type": "markdown",
      "metadata": {
        "id": "3UA9q-8j-5cW"
      },
      "source": [
        "Gerçek Hayat Örnekleri"
      ]
    },
    {
      "cell_type": "code",
      "execution_count": 52,
      "metadata": {
        "colab": {
          "base_uri": "https://localhost:8080/"
        },
        "id": "bbeabMM09Gbl",
        "outputId": "ae0966f6-3b9a-4e78-e534-359c6f8c010d"
      },
      "outputs": [
        {
          "name": "stdout",
          "output_type": "stream",
          "text": [
            "Orijinal Veri (Şubeler Bazında):\n",
            " [[150 200 250 300]\n",
            " [100 150 200 250]\n",
            " [ 80 120 160 210]\n",
            " [ 90 110 130 170]\n",
            " [ 70  90 110 150]\n",
            " [ 50  70  90 130]]\n",
            "\n",
            "Transpoz Alınmış Veri (Çeyrek Bazında):\n",
            " [[150 100  80  90  70  50]\n",
            " [200 150 120 110  90  70]\n",
            " [250 200 160 130 110  90]\n",
            " [300 250 210 170 150 130]]\n"
          ]
        }
      ],
      "source": [
        "#Şirketin 3 şubesinin 4 çeyrek boyunca gelir ve giderleri (bin TL cinsinden)\n",
        "\n",
        "financial_data = np.array([\n",
        "[150, 200, 250, 300],  # Şube 1 Gelir\n",
        "[100, 150, 200, 250],  # Şube 2 Gelir\n",
        "[80, 120, 160, 210],   # Şube 3 Gelir\n",
        "[90, 110, 130, 170],   # Şube 1 Gider\n",
        "[70, 90, 110, 150],    # Şube 2 Gider\n",
        "[50, 70, 90, 130]      # Şube 3 Gider\n",
        "])\n",
        "\n",
        "print(\"Orijinal Veri (Şubeler Bazında):\\n\", financial_data)\n",
        "#Tanspoz alarak çeyrek bazlı analiz yapıyoruz.\n",
        "\n",
        "financial_data_T = financial_data.T\n",
        "#[[150 100  80  90  70  50] 1. Çeyrek\n",
        "#[200 150 120 110  90  70] 2. Çeyrek\n",
        "#[250 200 160 130 110  90] 3. Çeyrek\n",
        "#[300 250 210 170 150 130]] 4. Çeyrek\n",
        "\n",
        "#transpozunu aldığımız bu örnekte çeyrekler arası kıyaslama yapmamız daha kolay olur.\n",
        "print(\"\\nTranspoz Alınmış Veri (Çeyrek Bazında):\\n\", financial_data_T)"
      ]
    },
    {
      "cell_type": "markdown",
      "metadata": {
        "id": "wJkrSST89fYS"
      },
      "source": [
        "**Şekil Değiştirme ve Düzleştirme (Reshaping and Flattening)**\n",
        "\n",
        "* reshape() fonksiyonu bir dizinin elemanlarını değiştirmeden farklı bir şekle sokulmasını sağlar.\n",
        " Not: **reshape fonksiyonunun çalışabilmesi için belirtilen shape'in eleman sayısı ile array'in eleman sayısı aynı olmalıdır!**\n",
        "* flatten() fonksiyonu ise çok boyutlu bir dizinin tek boyutlu hale indirgenmesini sağlar."
      ]
    },
    {
      "cell_type": "code",
      "execution_count": 58,
      "metadata": {
        "colab": {
          "base_uri": "https://localhost:8080/"
        },
        "id": "tRUGeS0Q9sLc",
        "outputId": "232523f9-8d4e-411b-e00b-8323e3dd6060"
      },
      "outputs": [
        {
          "name": "stdout",
          "output_type": "stream",
          "text": [
            "[[2 3 4]\n",
            " [5 6 7]]\n"
          ]
        }
      ],
      "source": [
        "A = np.array([[2,3],[4,5],[6,7]]) # 3x2 = 6 eleman\n",
        "\n",
        "B = A.reshape(2,3) # 2x3 = 6 eleman\n",
        "# ya da\n",
        "B = np.reshape(A,(2,3))\n",
        "\n",
        "print(B)"
      ]
    },
    {
      "cell_type": "code",
      "execution_count": 59,
      "metadata": {
        "colab": {
          "base_uri": "https://localhost:8080/"
        },
        "id": "oHzBGETa-OZ-",
        "outputId": "c9a1e113-05ff-45ea-bb52-ae565ed0b923"
      },
      "outputs": [
        {
          "name": "stdout",
          "output_type": "stream",
          "text": [
            "Reshape erroru: cannot reshape array of size 6 into shape (2,2)\n"
          ]
        }
      ],
      "source": [
        "# Verilen shape ile arrayimizin eleman sayıları farklı olursa ne olur?\n",
        "\n",
        "try:\n",
        "  A.reshape(2,2)\n",
        "except Exception as e:\n",
        "  print(\"Reshape erroru:\",e)"
      ]
    },
    {
      "cell_type": "code",
      "execution_count": 60,
      "metadata": {
        "colab": {
          "base_uri": "https://localhost:8080/"
        },
        "id": "V5WWLVDJ-VYY",
        "outputId": "dc98a6ec-e2a1-4a26-8119-6d4dac9d1c5a"
      },
      "outputs": [
        {
          "name": "stdout",
          "output_type": "stream",
          "text": [
            "[2 3 4 5 6 7]\n"
          ]
        }
      ],
      "source": [
        "C = B.flatten()\n",
        "\n",
        "print(C)"
      ]
    },
    {
      "cell_type": "markdown",
      "metadata": {
        "id": "xAOA34Mv-9ah"
      },
      "source": [
        "Gerçek Hayat Örnekleri"
      ]
    },
    {
      "cell_type": "code",
      "execution_count": 61,
      "metadata": {
        "colab": {
          "base_uri": "https://localhost:8080/"
        },
        "id": "GWUPTKKn-tt0",
        "outputId": "a65adb60-f3ab-46f8-cddb-dd7784f9b5f5"
      },
      "outputs": [
        {
          "name": "stdout",
          "output_type": "stream",
          "text": [
            "[[100 200]\n",
            " [150 250]\n",
            " [300 400]\n",
            " [110 210]\n",
            " [160 260]\n",
            " [310 410]]\n",
            "[100 200 150 250 300 400 110 210 160 260 310 410]\n"
          ]
        }
      ],
      "source": [
        "# 1. Örnek\n",
        "# Bir mağazanın haftalık satış verilerini analiz etme.\n",
        "\n",
        "# Haftalık satışlar (2 hafta, 3 gün, 2 ürün)\n",
        "sales = np.array([[[100, 200], [150, 250], [300, 400]],\n",
        "                  [[110, 210], [160, 260], [310, 410]]])\n",
        "\n",
        "# Reshape (6 gün, 2 ürün)\n",
        "reshaped_sales = sales.reshape(6, 2)\n",
        "print(reshaped_sales)\n",
        "\n",
        "# Flatten\n",
        "flattened_sales = sales.flatten()\n",
        "print(flattened_sales)"
      ]
    },
    {
      "cell_type": "code",
      "execution_count": 62,
      "metadata": {
        "colab": {
          "base_uri": "https://localhost:8080/"
        },
        "id": "HGWNnHgC_GmX",
        "outputId": "9d7164dc-386c-47bd-aeee-5acbc6f00073"
      },
      "outputs": [
        {
          "name": "stdout",
          "output_type": "stream",
          "text": [
            "[['U1' 'U2' 'U3']\n",
            " ['U4' 'U5' 'U6']\n",
            " ['U7' 'U8' 'U9']\n",
            " ['U10' 'U11' 'U12']]\n",
            "['U1' 'U2' 'U3' 'U4' 'U5' 'U6' 'U7' 'U8' 'U9' 'U10' 'U11' 'U12']\n"
          ]
        }
      ],
      "source": [
        "# 2. Örnek\n",
        "\n",
        "# Reshaping\n",
        "# Diyelim bir satıcı birkaç adet ürünü her kutuda eşit olacak şekilde kutulara dağıtmak istiyor\n",
        "\n",
        "products = np.array([\"U1\",\"U2\",\"U3\",\"U4\",\"U5\",\"U6\",\"U7\",\"U8\",\"U9\",\"U10\",\"U11\",\"U12\"])\n",
        "boxes = products.reshape(4,3)\n",
        "\n",
        "print(boxes)\n",
        "\n",
        "# Flatening\n",
        "# Diyelim alt kategorilere ayrılmış ürünler var, fakat üretici bu ürünlerin hepsini görmek istiyor.\n",
        "\n",
        "products = np.array([\n",
        "    [\"U1\",\"U2\",\"U3\"], # Kategori 1\n",
        "    [\"U4\",\"U5\",\"U6\"], # Kategori 2\n",
        "    [\"U7\",\"U8\",\"U9\"],  # Kategori 3\n",
        "    [\"U10\",\"U11\",\"U12\"] # Kategori 4\n",
        "  ]\n",
        ")\n",
        "\n",
        "all_products = products.flatten()\n",
        "\n",
        "print(all_products)"
      ]
    },
    {
      "cell_type": "markdown",
      "metadata": {
        "id": "7yVFLCLOAAlV"
      },
      "source": [
        "**Birleştirme (Concatenation), hstack, vstack**\n",
        "\n",
        "* Concatenation (Birleştirme): Dizileri (array) veya veri yapılarını yatay (horizontal) veya dikey (vertical) olarak birleştirme işlemidir. NumPy'de ***np.concatenate()*** fonksiyonu ile yapılır.\n",
        "\n",
        "* hstack (Horizontal Stack - Yatay Yığma): NumPy dizilerini yatay olarak (yan yana) birleştirmek için kullanılır. ***np.hstack()*** fonksiyonu ile gerçekleştirilir.\n",
        "\n",
        "* vstack (Vertical Stack - Dikey Yığma): NumPy dizilerini dikey olarak (üst üste) birleştirmek için kullanılır. ***np.vstack()*** fonksiyonu ile yapılır."
      ]
    },
    {
      "cell_type": "markdown",
      "metadata": {
        "id": "TqHRNiHiBe_E"
      },
      "source": [
        "Gerçek Hayat Örnekleri"
      ]
    },
    {
      "cell_type": "code",
      "execution_count": 63,
      "metadata": {
        "colab": {
          "base_uri": "https://localhost:8080/"
        },
        "id": "9ZwvwjOEAM3p",
        "outputId": "5d066441-d350-49b0-fdfc-6d9f6e1eab64"
      },
      "outputs": [
        {
          "name": "stdout",
          "output_type": "stream",
          "text": [
            "Concatenation ile Birleştirilmiş Hasta Verisi:\n",
            " [[1001   45  130]\n",
            " [1002   50  140]\n",
            " [1003   38  120]\n",
            " [2001   60  160]\n",
            " [2002   55  150]\n",
            " [2003   48  135]]\n",
            "hstack ile Genişletilmiş Hasta Verisi:\n",
            " [[1001   45  130  210]\n",
            " [1002   50  140  190]\n",
            " [1003   38  120  175]\n",
            " [2001   60  160  230]\n",
            " [2002   55  150  220]\n",
            " [2003   48  135  185]]\n",
            "vstack ile Güncellenmiş Hasta Verisi:\n",
            " [[1001   45  130  210]\n",
            " [1002   50  140  190]\n",
            " [1003   38  120  175]\n",
            " [2001   60  160  230]\n",
            " [2002   55  150  220]\n",
            " [2003   48  135  185]\n",
            " [3001   42  125  200]\n",
            " [3002   67  170  240]]\n"
          ]
        }
      ],
      "source": [
        "# 1. Örnek\n",
        "\"\"\"\n",
        "Bir hastane, iki farklı departmandan gelen hasta verilerini birleştirerek analiz yapmak istediği bir senaryo düşünelim.\n",
        "Dahiliye, Endokrinoloji.\n",
        "Her ikisinin de içerdiği bilgiler: hasta_id, yas, tansiyon, kolestrol_seviye\n",
        "Yeni gelen hastalar da veri setine eklenecek.\n",
        "\"\"\"\n",
        "\n",
        "#Concatenation:\n",
        "\n",
        "# Dahiliye bölümündeki hastalar (Hasta ID, Yaş, Tansiyon)\n",
        "dahiliye_hastalar = np.array([\n",
        "    [1001, 45, 130],\n",
        "    [1002, 50, 140],\n",
        "    [1003, 38, 120]\n",
        "])\n",
        "\n",
        "# Kardiyoloji bölümündeki hastalar (Hasta ID, Yaş, Tansiyon)\n",
        "kardiyoloji_hastalar = np.array([\n",
        "    [2001, 60, 160],\n",
        "    [2002, 55, 150],\n",
        "    [2003, 48, 135]\n",
        "])\n",
        "\n",
        "# İki departmandaki hastaları birleştirme (dikey birleştirme)\n",
        "tum_hastalar = np.concatenate((dahiliye_hastalar, kardiyoloji_hastalar), axis=0)\n",
        "print(\"Concatenation ile Birleştirilmiş Hasta Verisi:\\n\", tum_hastalar)\n",
        "\n",
        "# hstack: (yatay)\n",
        "# Hastaların kolesterol seviyelerini ekleme\n",
        "kolesterol_seviyeleri = np.array([[210], [190], [175], [230], [220], [185]])\n",
        "\n",
        "# Mevcut hasta verisine kolesterol ekleme\n",
        "hasta_verisi_genisletilmis = np.hstack((tum_hastalar, kolesterol_seviyeleri))\n",
        "print(\"hstack ile Genişletilmiş Hasta Verisi:\\n\", hasta_verisi_genisletilmis)\n",
        "\n",
        "# vstack (dikey)\n",
        "# Yeni gelen hastaları ekleme\n",
        "yeni_hastalar = np.array([\n",
        "    [3001, 42, 125, 200],\n",
        "    [3002, 67, 170, 240]\n",
        "])\n",
        "\n",
        "# Yeni hastaları mevcut verilere ekleme\n",
        "guncel_hasta_verisi = np.vstack((hasta_verisi_genisletilmis, yeni_hastalar))\n",
        "print(\"vstack ile Güncellenmiş Hasta Verisi:\\n\", guncel_hasta_verisi)"
      ]
    },
    {
      "cell_type": "code",
      "execution_count": 64,
      "metadata": {
        "colab": {
          "base_uri": "https://localhost:8080/"
        },
        "id": "Yx2oyuAsBOT0",
        "outputId": "ae46d40f-7815-48a0-e8d2-89a4272afccf"
      },
      "outputs": [
        {
          "name": "stdout",
          "output_type": "stream",
          "text": [
            "[[4.5 4.7]\n",
            " [4.8 4.9]\n",
            " [4.6 4.8]\n",
            " [4.7 4.9]]\n",
            "[[4.5 4.7 4.6 4.8]\n",
            " [4.8 4.9 4.7 4.9]]\n",
            "[[4.5 4.7]\n",
            " [4.8 4.9]\n",
            " [4.6 4.8]\n",
            " [4.7 4.9]]\n"
          ]
        }
      ],
      "source": [
        "# 2. Örnek\n",
        "# İki farklı şubedeki müşteri memnuniyeti verilerini birleştirme.\n",
        "\n",
        "# Şube 1 müşteri puanları\n",
        "branch1_scores = np.array([[4.5, 4.7], [4.8, 4.9]])\n",
        "\n",
        "# Şube 2 müşteri puanları\n",
        "branch2_scores = np.array([[4.6, 4.8], [4.7, 4.9]])\n",
        "\n",
        "# Dikey birleştirme\n",
        "combined_vertical = np.vstack((branch1_scores, branch2_scores))\n",
        "print(combined_vertical)\n",
        "\n",
        "# Yatay birleştirme\n",
        "combined_horizontal = np.hstack((branch1_scores, branch2_scores))\n",
        "print(combined_horizontal)\n",
        "\n",
        "# Concatenation (dikey)\n",
        "combined_concat = np.concatenate((branch1_scores, branch2_scores), axis=0)\n",
        "print(combined_concat)"
      ]
    },
    {
      "cell_type": "markdown",
      "metadata": {
        "id": "txSz8cgqVrTv"
      },
      "source": [
        "**NUMPY IN REAL LIFE**"
      ]
    },
    {
      "cell_type": "code",
      "execution_count": 67,
      "metadata": {
        "colab": {
          "base_uri": "https://localhost:8080/"
        },
        "id": "g0ZrMSX2TsB8",
        "outputId": "688537d0-cd68-4fec-9250-217b0f5f51d1"
      },
      "outputs": [
        {
          "name": "stdout",
          "output_type": "stream",
          "text": [
            "Total sales for each:  [ 180  400 1050 1760  750]\n"
          ]
        }
      ],
      "source": [
        "import numpy as np\n",
        "\n",
        "prices = np.array([10, 20, 30, 40, 50])\n",
        "saledQuantities = np.array([18, 20, 35, 44, 15])\n",
        "\n",
        "totalSalesForEach = prices * saledQuantities\n",
        "print(\"Total sales for each: \", totalSalesForEach)"
      ]
    },
    {
      "cell_type": "code",
      "execution_count": 68,
      "metadata": {
        "colab": {
          "base_uri": "https://localhost:8080/"
        },
        "id": "CKEixTQlUJvD",
        "outputId": "e9745aba-bb41-463d-aa3d-b41857b5b0cf"
      },
      "outputs": [
        {
          "name": "stdout",
          "output_type": "stream",
          "text": [
            "Total sales:  4140\n"
          ]
        }
      ],
      "source": [
        "#totalSales = totalSalesForEach.sum()\n",
        "totalSales = np.sum(totalSalesForEach)\n",
        "\n",
        "print(\"Total sales: \", totalSales)"
      ]
    },
    {
      "cell_type": "code",
      "execution_count": 69,
      "metadata": {
        "colab": {
          "base_uri": "https://localhost:8080/"
        },
        "id": "amCD2Dn6Uo0d",
        "outputId": "e3c1d13c-abf7-4034-995e-8584847b2507"
      },
      "outputs": [
        {
          "name": "stdout",
          "output_type": "stream",
          "text": [
            "New stock:  [ 82 180 265 356 485]\n"
          ]
        }
      ],
      "source": [
        "unitInStock = np.array([100, 200, 300, 400, 500])\n",
        "prices = np.array([10, 20, 30, 40, 50])\n",
        "saledQuantities = np.array([18, 20, 35, 44, 15])\n",
        "\n",
        "newStock = unitInStock - saledQuantities\n",
        "print(\"New stock: \", newStock)"
      ]
    },
    {
      "cell_type": "code",
      "execution_count": 70,
      "metadata": {
        "colab": {
          "base_uri": "https://localhost:8080/"
        },
        "id": "mFU5Uc1_VWBE",
        "outputId": "39da63bb-ff26-4d39-c331-42ea9fe4d5ea"
      },
      "outputs": [
        {
          "name": "stdout",
          "output_type": "stream",
          "text": [
            "[ True False False False False]\n"
          ]
        }
      ],
      "source": [
        "critical = newStock < 100\n",
        "print(critical)"
      ]
    },
    {
      "cell_type": "code",
      "execution_count": 71,
      "metadata": {
        "colab": {
          "base_uri": "https://localhost:8080/"
        },
        "id": "ehuPUQxZVYsU",
        "outputId": "ed4c9c11-dfae-482c-b5a8-e41099bc99ce"
      },
      "outputs": [
        {
          "name": "stdout",
          "output_type": "stream",
          "text": [
            "1760\n",
            "180\n",
            "828.0\n"
          ]
        }
      ],
      "source": [
        "bestSale = np.max(totalSalesForEach)\n",
        "print(bestSale)\n",
        "\n",
        "wortSale = np.min(totalSalesForEach)\n",
        "print(wortSale)\n",
        "\n",
        "meanOfSales = np.mean(totalSalesForEach)\n",
        "print(meanOfSales)"
      ]
    },
    {
      "cell_type": "markdown",
      "metadata": {
        "id": "JkgnKSFIgLMJ"
      },
      "source": [
        "**Homework** (05.03.2025)\n",
        "\n",
        "Bir E-Ticaret Şirketi İçin Veri Analizi ve Raporlama\n",
        "\n",
        "Ödev Açıklaması:\n",
        "\n",
        "Bir e-ticaret şirketinde çalıştığınızı hayal edin. Şirket, müşterilerin alışveriş alışkanlıklarını anlamak, en çok satan ürünleri belirlemek ve kârlılığı artırmak için veri analizi yapmanızı istiyor. Size verilen satış verilerini NumPy kullanarak analiz etmeniz gerekiyor.\n",
        "\n",
        "1. Veri Seti (Üretilmesi Gereken Rastgele Veriler)\n",
        "Her öğrenci rastgele üretilmiş verilere dayalı analiz yapmalıdır. Aşağıdaki verileri NumPy kullanarak oluşturun:\n",
        "\n",
        "* 1000 müşterinin harcama tutarları (50 TL ile 5000 TL arasında rastgele)\n",
        "\n",
        "* 1000 müşterinin satın aldığı ürün sayıları (1 ile 10 arasında rastgele)\n",
        "\n",
        "* 1000 müşterinin indirimden yararlanıp yararlanmadığı (0: Hayır, 1: Evet - %30 indirim aldı)\n",
        "\n",
        "* Ürün fiyatları (10 TL ile 1000 TL arasında rastgele)\n",
        "\n",
        "* Kategori bazlı satış adetleri (5 kategori için rastgele satış sayıları)\n",
        "\n",
        "2. İstenilen Analizler\n",
        "Aşağıdaki analizleri gerçekleştirin:\n",
        "\n",
        "A. Temel İstatistikler\n",
        "\n",
        "Ortalama müşteri harcaması nedir? (mean)\n",
        "\n",
        "En yüksek ve en düşük harcama miktarları nedir? (max, min)\n",
        "\n",
        "Kaç müşteri indirim kullanmıştır? (sum)\n",
        "\n",
        "B. Satış Analizi\n",
        "\n",
        "İndirim kullanan müşterilerin ortalama harcaması ile indirim kullanmayanların ortalama harcaması arasındaki farkı bulun.\n",
        "\n",
        "Toplam satış gelirini hesaplayın.\n",
        "\n",
        "En çok satılan ürünleri ve kategorileri belirleyin.\n",
        "\n",
        "Satın alınan ürün sayısı ile harcama arasında korelasyon var mı? (np.corrcoef() kullanarak)\n",
        "\n",
        "C. Sezonluk Karşılaştırma (Geçen Yılla Kıyaslama)\n",
        "\n",
        "Geçen yılın verilerini rastgele oluşturarak bu yıl ile karşılaştırın.\n",
        "\n",
        "Satışlarda ortalama % kaç artış veya azalma olmuş?\n",
        "\n",
        "Geçen yıl en çok satılan ürün ile bu yıl en çok satılan ürünü karşılaştırın.\n",
        "\n",
        "D. Stratejik Kararlar\n",
        "\n",
        "Elde edilen verilere dayanarak e-ticaret şirketine 3 öneri sunun. (Örneğin, indirimlerin satışlara etkisini değerlendirerek)"
      ]
    },
    {
      "cell_type": "code",
      "execution_count": 73,
      "metadata": {
        "colab": {
          "base_uri": "https://localhost:8080/"
        },
        "collapsed": true,
        "id": "NiLsAJFoDHTT",
        "outputId": "067b10f0-eb0f-4c9d-cdd3-a0ab1a3332b4"
      },
      "outputs": [
        {
          "name": "stdout",
          "output_type": "stream",
          "text": [
            "1000 müşterinin harcama tutarları:  [2649 2164 4771  432 1047 4343 2625 4486 3730 3836 3480 4660 1071 2951\n",
            " 4120 3350 1762 3735 4980 3976 1103 3566 3290  312 3791 1017 3524 3261\n",
            " 1961 1003 3553 4537 4616 2513  961 3043 3416 4252 1810  648  922 1435\n",
            " 3815 1674 3972 4760 4765  460 3100 1568 3690 2927 3595 4732 2148 2612\n",
            " 4884  416 2734 4176 3916 1434 2566 3145 3272 4224 4048 3278 4946 3135\n",
            " 3345 2715   74 1865 4029 3080 3403  324 3655 1286 1025  959 4526 1029\n",
            " 4882 1755 2490 3007  628  729 1944 3799 1186 3557 3042 3427 2221 4778\n",
            " 2660 3326 2283  456 1654 4679 2732 4287 4621 4692 4975 1221  594 3059\n",
            " 1891 4175 4199 3293 4903  791 1765  987 3820 1113 1944 2703 2820  442\n",
            "  178 2842 4535 4009 2767 1704 4549 4894 1107 4338 2226 4243 3006 3992\n",
            " 1384 4421  222 2842 2889 3827 4893 4334 3400 3420 4912 4003  239 3296\n",
            " 3578 1409 1172 3509  269 1465 2409 2220 2611 3729 3710 2292 2350 2865\n",
            " 3808 2223 4181 1815 2490 4422 1809 1432 4915 2844 3744 3560 1826  968\n",
            " 1235 4279 4145 3391 4973  462 1940 4766 2243 3423 4387 1921 2168  455\n",
            " 2259 1551 1166 1650 4911 4892 2641 1222 1957 1341 3725 3424  701 1747\n",
            " 2869  317 3492 3503 4006 4844 4047 2784 4185 3790 1436 2245 2249 2074\n",
            " 3043 2367 1073 1148 1146 4320  971 3122 1068 2994 2726 4042 3293 3145\n",
            " 2286 3300 2427 1162 3139 4791 2964   52 2355  168 2043 3778  942 2794\n",
            " 1518 1333 2450 3929 3574 2536 2142 4755 3116 1151 1283 2443  687 1055\n",
            " 1035 1036 1823 1320 3215 1212 2643 2950  830 4645 2844 1533 1591 3025\n",
            " 4010 4185 2791 1560 4887 3593 2132  945  155 3057 2469 3291  270  233\n",
            " 1299 4384 4615 4007 2245 2080 3318 1130 1605  136 3088 3259  394  421\n",
            " 2349 2382 1783 2925  254 1710 4336 4920 1990 2145 3076 2039 3767 4384\n",
            " 3393 2900 3962  932 4484 4993  292 3942 2853  492 1138 1381 1190 4742\n",
            " 2317  740 2843 4040  344 3232 4302 2450 4288 2213 1956 4840 3141 4759\n",
            " 2129 3524 4200 1606 4288 2627 4587 1297  666 3799 1507 1394 2018  989\n",
            " 4732   62 4836 4208 2797 2533 3404 1318 1280 2787  376  567 1055 1640\n",
            " 1562 1100 3998 2176 4208 2160 2764 3410  968 3017 2070 4939 1916 2584\n",
            "  821 4600  915 4850 2046  623 4394 1081 4821 1342 1292 1210  567 1389\n",
            "  566 2093 4043 2052 2821  451 1328 3878 1663  265 4549 1653 1606 3315\n",
            " 1182 4229 2306 3286 2040 2033 2435  860 1791 1433  718  381 1087  539\n",
            " 2027 2755  292 1624  125 4646 3532  284 1532 4343  954 3302 3676  781\n",
            " 2536 3431  937 3688  760 2368 4762 2664 1645 4881 2957 4527 2054 2347\n",
            " 3462  339 2565 3735 2308 2148 3102 1043 2536 3450 4417  403  853 2438\n",
            " 2679 4332 3947 1699 3409  106 3856 3341 3305 1775 4802 2626 4713 1537\n",
            " 2057  467 3193 2218  144 2166 1345  849 2515 4887 3914 1324 3828 2655\n",
            " 4088  436 3084  682  170 4180 2992 4859 4028 3928 1293 3213 1133 1506\n",
            "  348  501 3247 1988  399 1086 4497 2514 1432 1439 3948 1756 3602 1572\n",
            " 2558 2992 2063 2939 4461 2407 4923 1615  462 1963 4090 1114 4095 3605\n",
            " 1931 4168 1363  959 4725 1494   69  507 2314 3955 4321 1656 4739 3309\n",
            " 2594  528 3245  787  912 4035 4047 2783 2408 3302 3555 1834 1204 1928\n",
            " 1552 3450 4764 3253 4174 1344 2861 2519 1621 1614 3383 4196 1791 3734\n",
            " 2965 3689 3602 2153 4934 1342  160 1546 4996  313 2787  909 2475 1587\n",
            " 3264 4125 4676 2374 4427 2228 2699 3167 2096  464 4411 2400  365 1081\n",
            "  345 2021 2506 2602 2651 1911 4437 1509 3767 4338 1710 3243 2126 4926\n",
            " 3939 4797 2208 4440 3858 4148 3071 2311 1795 3669 1732  461 1272 1865\n",
            " 1001 3892 1141 1123 2259 2294 3194 2171 3703 4856 2225 3310 3239 4138\n",
            " 2039   94 1196 1846   96  189 1331 2362 2886 1094 3336 3283 2676 1204\n",
            "  217 1800 2044 3385 3843 2225 4914 3842  107 2267 1273 4084 2532 3200\n",
            "  566  349 4895 2459 1614 2681 1255 4413 2650 3980 4754 2979 1018 4424\n",
            " 4275 1822 2635 4191 4651 1860  483 3218 1739 3424 1099 2398 3855 4106\n",
            " 2454 2159 4478 4094 4716 2120 1773 3958 4440 2882 3520 1879 4651 1037\n",
            " 4838 2388 2142   75 2060 4509 4851 4240 4326 1017 2256 1587 3201 2165\n",
            " 2549 2716 3936 3286 3158 3501 2331 1450 2273 1389 2637 1940 2969 1234\n",
            " 1404 3028 4039  348 3622  923  430 2327 2870 2533 1709  711  517 4886\n",
            " 3713 3000 1071  653 4920  726 2347 4715 1473  918 1451 1041 1366 1562\n",
            " 4715 2400 3905 2844 3205 3351  672 3713 2969 3292 4276 2327 2585 4249\n",
            " 3805  754 4912 3055 2270 1835 3098  917  138 3780 2489 1490 2506  698\n",
            " 1492 2101 4024 3708 2087  805 3595 4981 4065 1065 1249 1095  836 4815\n",
            " 1614 2611 2658  187 4788 3675  824 2173  732 1831  407 4124 1745 4904\n",
            " 1976 2379  484 2410 1458 2577 1864 4826 1914 4706 1388 3801 1341  525\n",
            " 1339 3640 3579 2670  907 4566 3622 2311 3482 3062 2150 3077 3199 2916\n",
            " 4635 4297  184 1203 4168 1694  164 2208 1145 3005 1660 1066 3931  677\n",
            " 4674 1760  140 1719 2011 2412 1791 1880 1650 3147 1589 4360 4114 2186\n",
            " 3077 3418 3100  919 3554 4611  626 1552 1168 3453 2109 4618  235  296\n",
            " 3423 3283 3696 1114 3511 2988 2389 3856  666 4177 3521 2784 2164  228\n",
            " 4443  394 4094 4023 3645 1759 2603 1978 3462 3808 1806 1222 4832 1483\n",
            " 4545  575 1209 2822 4760 4973 2408 1619 4222 3033 3398 2767 2729 2529\n",
            "  262 2469 3621 3717 2463 2592 3998 4411  936 1683  701 2217 1439  721\n",
            " 4832 1372 4312 1306 3473  561 2229 4416  716 4062 3889 3665  427 4490\n",
            " 3286 3309 4846 2807 4254 4472  289  693 1774 3867 3658 4815 4054 1248\n",
            " 3716 3499 2396 4757 2527 2630]\n"
          ]
        }
      ],
      "source": [
        "customer_payments = np.random.randint(50, 5000, 1000)\n",
        "print(\"1000 müşterinin harcama tutarları: \", customer_payments)"
      ]
    },
    {
      "cell_type": "code",
      "execution_count": 74,
      "metadata": {
        "colab": {
          "base_uri": "https://localhost:8080/"
        },
        "collapsed": true,
        "id": "8n9wVKmpExKW",
        "outputId": "ac998eaf-7075-4bd1-f29e-adb1d4e554c3"
      },
      "outputs": [
        {
          "name": "stdout",
          "output_type": "stream",
          "text": [
            "1000 müşterinin satın aldığı ürün sayıları:  [9 2 7 2 9 8 1 8 1 7 8 9 5 4 6 1 9 3 4 4 8 6 4 2 6 5 4 5 1 3 6 4 1 9 2 3 3\n",
            " 5 8 6 5 4 1 8 1 6 4 8 5 8 3 5 8 2 2 7 1 5 5 7 3 1 5 2 6 9 4 3 6 7 1 2 2 7\n",
            " 2 1 8 5 2 6 1 7 1 4 6 3 6 1 3 6 1 6 8 6 7 7 6 3 4 4 1 9 7 8 7 7 5 9 1 2 5\n",
            " 5 6 7 7 6 5 2 1 7 3 1 8 8 8 3 3 8 2 5 9 7 1 1 4 7 5 4 3 8 2 2 6 1 2 5 2 8\n",
            " 5 9 7 1 7 9 5 5 3 3 6 3 9 5 3 3 3 3 2 2 7 2 4 5 4 4 4 9 3 3 7 1 4 5 9 8 1\n",
            " 2 1 4 7 5 4 4 7 9 2 1 8 1 5 9 1 3 7 8 7 6 8 9 4 4 1 9 5 6 4 1 5 7 4 2 2 5\n",
            " 6 7 2 4 5 9 8 2 6 5 7 4 3 9 9 9 1 6 9 2 9 7 4 4 1 5 5 3 2 2 2 1 4 9 1 6 9\n",
            " 4 5 2 1 9 1 5 2 4 2 7 2 6 4 7 1 7 3 5 3 2 4 1 6 4 8 6 3 6 1 5 9 3 7 7 3 6\n",
            " 5 9 4 6 4 6 7 6 2 6 7 3 2 3 7 2 9 3 7 9 7 6 6 9 9 1 2 9 9 5 7 7 5 4 2 9 8\n",
            " 4 3 5 2 7 7 6 3 2 7 2 6 6 8 9 3 8 1 1 6 9 1 6 4 8 6 7 2 6 4 1 9 3 6 1 6 9\n",
            " 2 9 4 6 3 5 6 5 1 1 9 4 6 4 7 2 1 2 3 6 6 4 5 7 8 2 6 7 1 1 9 9 3 8 9 8 9\n",
            " 3 8 7 4 7 5 1 3 2 7 7 5 3 8 6 1 7 1 1 8 4 9 1 1 8 3 8 8 8 3 5 8 4 3 9 8 4\n",
            " 1 3 1 6 1 6 1 9 9 8 8 7 6 4 7 9 3 6 4 9 1 1 6 8 9 9 4 8 9 3 9 7 1 7 1 6 9\n",
            " 5 4 5 1 2 6 7 3 5 6 6 7 4 5 2 1 3 2 3 2 8 3 6 9 1 7 4 2 8 6 9 6 1 1 4 2 4\n",
            " 5 6 8 2 7 3 1 1 9 9 3 2 5 6 8 4 4 6 7 9 4 2 2 4 1 9 3 9 7 5 2 6 6 2 6 7 9\n",
            " 7 3 1 8 5 7 2 2 8 9 3 1 6 8 9 8 4 2 7 7 5 4 5 7 7 6 2 3 9 1 1 3 2 4 2 5 2\n",
            " 4 9 2 9 1 7 1 9 7 4 7 4 6 4 1 9 9 4 2 5 2 6 1 3 8 8 6 3 5 7 9 6 5 8 3 5 9\n",
            " 8 6 7 1 9 7 6 2 2 6 1 1 6 1 5 2 6 7 8 7 7 7 1 7 7 9 8 7 6 5 4 3 9 2 7 9 6\n",
            " 2 6 6 7 6 7 6 8 4 4 4 8 2 1 2 7 7 6 7 6 3 4 5 4 4 1 7 8 6 6 1 6 7 2 2 7 4\n",
            " 8 1 9 5 5 7 5 5 7 3 2 5 4 3 7 8 3 7 7 5 4 3 8 7 1 7 6 1 1 4 8 5 7 7 9 6 1\n",
            " 5 3 9 4 5 1 1 2 6 8 2 2 9 5 8 6 2 8 6 4 3 5 4 6 4 8 9 6 2 4 4 4 3 5 4 6 4\n",
            " 2 2 1 3 5 6 1 1 1 2 5 2 1 3 2 9 5 4 6 4 9 8 1 4 8 2 6 8 5 3 3 4 9 2 7 7 7\n",
            " 4 1 4 5 2 3 4 3 4 1 5 6 6 4 7 2 8 9 5 2 2 7 7 8 1 7 4 3 5 7 2 1 6 3 3 5 7\n",
            " 6 2 1 5 7 8 2 3 4 6 2 2 2 6 8 7 3 2 6 1 4 4 3 5 8 3 2 2 3 3 1 5 6 9 8 1 1\n",
            " 5 2 8 1 7 6 9 4 4 1 2 5 9 2 5 6 6 3 4 4 5 5 2 1 2 6 7 9 3 8 5 9 2 3 1 6 7\n",
            " 6 5 4 7 1 1 2 3 8 4 8 1 1 5 2 5 8 5 1 8 7 5 7 7 5 8 2 3 6 2 8 4 1 4 4 3 5\n",
            " 9 2 6 3 8 6 8 9 9 4 1 9 5 2 2 6 2 1 4 1 9 4 8 5 3 6 5 9 9 6 5 2 5 6 1 9 7\n",
            " 8]\n"
          ]
        }
      ],
      "source": [
        "product_counts = np.random.randint(1, 10, 1000)\n",
        "print(\"1000 müşterinin satın aldığı ürün sayıları: \", product_counts)"
      ]
    },
    {
      "cell_type": "code",
      "execution_count": 81,
      "metadata": {
        "colab": {
          "base_uri": "https://localhost:8080/"
        },
        "collapsed": true,
        "id": "DsyoSiSfFKUH",
        "outputId": "271c9988-41c5-454d-80d6-b9045a63f6c4"
      },
      "outputs": [
        {
          "name": "stdout",
          "output_type": "stream",
          "text": [
            "1000 müşterinin indirimden yararlanıp yararlanmadığı:  [0 0 0 0 1 1 0 0 0 0 0 0 0 1 0 0 0 1 1 0 0 1 1 1 0 1 0 0 0 1 1 0 1 0 1 1 0\n",
            " 0 1 1 0 1 0 0 0 0 1 1 1 1 1 0 0 1 1 0 0 1 0 1 0 1 1 1 0 1 1 0 1 1 1 1 0 0\n",
            " 1 1 1 0 0 0 0 1 1 0 1 0 1 0 0 1 0 1 0 0 0 1 1 1 1 0 0 1 0 0 1 0 1 1 1 0 1\n",
            " 0 1 1 1 1 0 1 0 1 0 0 1 1 1 0 1 1 1 0 1 1 1 0 1 0 1 0 1 0 1 1 1 0 0 1 0 0\n",
            " 1 1 1 0 0 0 0 0 1 1 0 0 1 1 1 0 1 1 1 1 0 0 1 1 1 0 0 1 1 0 1 1 0 0 1 1 0\n",
            " 1 0 0 0 1 1 0 0 0 0 0 0 0 0 1 1 0 0 0 1 0 1 0 0 1 0 1 0 0 1 0 1 0 1 0 0 1\n",
            " 1 1 0 1 0 0 0 0 1 0 1 0 0 0 0 1 0 0 0 0 0 0 1 1 0 0 0 1 1 1 0 1 1 0 0 1 0\n",
            " 1 0 1 0 0 1 1 1 1 0 0 1 1 1 1 1 0 1 0 0 1 1 0 1 1 1 1 1 0 0 1 0 1 1 1 1 0\n",
            " 1 1 1 1 1 0 0 0 1 1 1 1 1 0 0 1 1 1 1 0 1 1 0 1 1 0 0 0 0 0 1 1 1 1 0 0 1\n",
            " 0 0 1 1 0 0 1 0 0 0 1 1 0 0 1 1 0 0 0 1 1 0 1 1 1 1 1 0 1 1 0 0 1 1 1 0 1\n",
            " 1 1 1 0 0 0 0 0 0 1 0 1 0 0 1 1 1 0 1 1 1 0 0 0 0 0 1 0 1 1 1 0 0 1 1 0 1\n",
            " 1 0 0 1 0 1 1 1 0 0 1 1 1 0 1 1 0 0 1 1 1 1 1 1 1 0 1 1 1 0 1 1 0 0 1 1 0\n",
            " 1 0 1 1 1 0 0 0 0 1 0 0 0 0 0 0 1 0 1 1 0 1 1 1 1 0 0 0 1 1 1 0 0 0 0 0 1\n",
            " 0 1 1 0 1 1 1 0 1 1 0 1 1 0 1 1 0 1 1 1 1 1 0 0 1 0 1 0 0 1 1 0 0 0 1 1 0\n",
            " 0 1 0 0 1 1 0 0 1 1 0 1 0 1 0 0 0 1 1 0 1 1 0 1 0 0 1 1 0 0 0 1 0 0 1 0 0\n",
            " 0 1 0 1 0 0 1 0 1 1 0 0 1 0 1 1 1 1 1 0 1 1 0 1 0 1 1 1 0 0 1 0 0 0 0 0 0\n",
            " 1 0 0 1 1 1 0 1 1 1 1 1 1 0 0 0 1 1 1 1 0 1 1 0 1 1 0 0 1 0 1 0 1 0 1 1 0\n",
            " 0 1 1 0 0 0 0 1 1 0 0 0 1 1 0 1 1 0 1 0 0 0 0 1 0 0 0 0 0 1 0 0 1 0 1 0 1\n",
            " 0 0 0 1 1 0 1 0 0 1 1 0 0 1 1 0 1 0 0 0 1 1 1 1 1 0 0 0 0 1 0 1 0 0 1 1 0\n",
            " 1 1 0 0 0 1 0 1 0 1 1 1 1 1 0 0 1 1 0 1 0 0 1 1 1 1 0 0 1 1 0 0 0 1 1 0 1\n",
            " 0 0 0 0 0 0 1 0 1 1 0 0 1 1 0 0 1 0 1 1 0 1 1 1 0 1 0 1 0 0 0 0 0 1 1 1 1\n",
            " 0 0 0 0 0 1 1 0 1 1 0 1 0 1 1 1 1 0 0 1 1 0 0 1 0 0 0 0 1 0 1 1 0 1 0 1 0\n",
            " 0 0 0 1 1 1 1 1 1 1 1 0 0 1 1 0 0 0 1 1 0 1 0 0 0 1 1 1 1 0 1 0 0 0 0 1 1\n",
            " 0 0 0 0 0 1 0 0 0 1 0 0 1 1 1 1 1 0 1 0 1 1 1 0 0 0 0 0 1 1 0 1 0 0 1 0 1\n",
            " 0 1 0 0 0 1 1 1 0 1 1 0 0 1 1 1 1 0 0 1 1 0 1 1 1 0 0 0 0 1 1 0 1 1 0 0 0\n",
            " 1 1 1 0 0 0 0 1 1 1 0 0 1 1 1 1 1 0 0 0 1 0 0 1 0 1 0 0 1 1 1 0 0 0 0 0 1\n",
            " 1 0 1 0 0 1 1 0 0 1 0 0 1 1 1 1 0 0 1 0 1 1 1 0 0 0 0 1 1 0 0 0 1 0 1 0 0\n",
            " 0]\n"
          ]
        }
      ],
      "source": [
        "hasOrNot_discount = np.random.randint(0, 2, 1000)\n",
        "print(\"1000 müşterinin indirimden yararlanıp yararlanmadığı: \", hasOrNot_discount)"
      ]
    },
    {
      "cell_type": "code",
      "execution_count": 76,
      "metadata": {
        "colab": {
          "base_uri": "https://localhost:8080/"
        },
        "collapsed": true,
        "id": "qMYu0IckFgHb",
        "outputId": "4d359a3e-6420-429f-c873-867cb0a5e2f9"
      },
      "outputs": [
        {
          "name": "stdout",
          "output_type": "stream",
          "text": [
            "Ürün fiyatları:  [773 556 347 172 811 312 885 256 892 348 793  68 783 436 208 654 478 933\n",
            " 654 519 366 533 360 952 216 138 214 283 826  61 130 480 128 123 775 970\n",
            " 115 796  89 186 649 192 490 271 883 226 467 803 821 513 663 307 378 270\n",
            " 811 373 257 270 387 128  72 337 901 443 373 123 660 240  38 410 891 765\n",
            " 698 234 414 626 837 861 105 617 873 630 641 171 936 184 927 743 485 709\n",
            " 954 397 503 863 139 229 415 858 478  10 941 367 928 374  99 532 757  73\n",
            " 575  82 267 835 977 441 619 166 851 991 427 289 786 210 140 528 257  88\n",
            " 276  45 177 837 299 168 481 773 979  69 307 644 462 633 856 526  85 628\n",
            " 674  47 167 446 407 875 150 223 384 655 126 130 867 685 435 568 494 149\n",
            " 908 326 237 560 608 921 457 109 868 733 262 236  72 349 215  36 752 614\n",
            " 169 455 617 313 269 270 420 375 485 934 429 468 983 492 503 556 259 935\n",
            "  34 726 448 338 659 241 353 865 135 359 256 806 248 608 359 761 558 339\n",
            "  65 218 278 813 843 671 804 739 231 837 158 703  17 228 436 904 101  30\n",
            " 862 767 934 726 407 452 527 627 159 196  94 244 247 903 379 625 503 125\n",
            " 851 491  77 265 536 425 572 384 794 769 264 863 878 184 827 361 708 784\n",
            " 177 891 856 204 852 395 156 430 998 967 860 637 154 202 348 843 956 424\n",
            " 249 567 640 248 931 922 670 359 982 860 668 420 969 251 391 678 821 458\n",
            "  67 966 116 779 660 292 555 528 137 932 319 346 291 711 709 534 728 746\n",
            " 334  78 748 667 729 361 276 247 603 818 138 457 169 720 785 573 174 526\n",
            " 958 959 673 201 925 646 656 533 459 214 798  96 424 623 465 535 352 925\n",
            " 792 133 864 892 938 247 666 551 549 600 181 890 901 740 743  28 698 380\n",
            "  19 363 250 452  12 332 960 109 851 172 607 239 370 324 750  32 342 328\n",
            " 918 946 392 613 551 675 326 755 965 423 721 796 198 195 338 870 142 509\n",
            " 806 594 499 221 412 771 838 417 911 643 518  24  86 223 876 930  61 447\n",
            " 194 897 207 636  54 124 936 309 471 326 586 263 375  71 182 183 242 497\n",
            " 870 977 696 146 264 481 953  95 618 772 374 293 123 451 942  98 897 448\n",
            "  43 389 334 827 923 121  95 195 185 725 650 690 726 433 704 533 646 544\n",
            " 382 446 124 725  11 769 465 611 556 791 683 186 629  48 299 679 706 214\n",
            " 947 936 701 392 867 739 258 400 258 244 705  42 633 347 980 933 903  17\n",
            " 553 969 458 386 657 949 228 489  84 720 403 818 701 662  86 162 551 851\n",
            " 444 876  20 933 399 188 132 240 141 866 799 838 767 985 477 439 892 593\n",
            " 314 673 124 718 938 654 611 758 315 876 184 146 834 538 216 753 610 706\n",
            " 791 864 865 231 303 436 865 739 557 986  27 685 312 431 169 790 101 618\n",
            " 435 821 614 221 526 469 381 208 182 880 590 510 918 731 107 367  43 559\n",
            "  88 552 900 594 978 977 303 797  94 756 591 417 629 457 254 252 619 554\n",
            " 111 117 752  20 241 303 245 546 140 357  85 802 635  22 153 900 872 417\n",
            " 628 920 766 764 383 621 200 236 548 108 899 252 249 625 560 932 509  96\n",
            " 360  99 747 466 922 814 165 571  60 910 581 757 817 735 226 433 738 237\n",
            " 451 476 597 732 646 317 119 518  71 769 626 175 904 859 244 983 551 894\n",
            " 570 201 323  58 472 488 906 384 530 346  75 443 349 613 124 864 637 740\n",
            " 795  88 819 128 205 101 645 290 917 477 654 334 205 247 294 795 667 649\n",
            " 807 577 370  65 516 480 582 872 832 808 321 858 499 535 496 980 837 671\n",
            " 383 805 419 408 673 566 803 674 193  41 981 822  88 952  51 137 687 182\n",
            "  66 296 439 974 769 283 216 803 177  93 438 189 833 275 601 849 675 139\n",
            "  95  76 174 485  25 176 899 242 288 461  14 932 183 577 350 347 744 452\n",
            " 422 150 805 583 244 742 708 821 732 369  34 477 300 778 673 797 586 455\n",
            " 769 305 692 126 411 647 490  73 407 883 878  39 194 325 149 585 273 254\n",
            " 955 925 587 935 111 106 533 831 907 808 914 271 401 146 367 881 946 990\n",
            " 261 974 973 884 191 205  24 486 575 193 408  99 972 888 139 135 943 928\n",
            " 679 660 158 838 450 345 971 864 322 182 555 919 791 373 460 888 188 129\n",
            " 470 339 975 757 959 766 751 503 483 935 960 451 104 803 113 187 581 974\n",
            " 770 597  87 737 569 599 569 670 167 740 794 578 470 912 390 778 552 127\n",
            " 356 863 517 179 964 879 690 710 520 402 537 693 559 375 666 483 310 539\n",
            " 572 477 905  68 896 197 224 639 377 706 532 974  13 557  51 562 183 745\n",
            " 909 231 540 770 905 271 550 643 406 133 314 238 760 850 998 685 799 178\n",
            " 636  44 210 113 924 194 805 266 701 727]\n"
          ]
        }
      ],
      "source": [
        "product_prices = np.random.randint(10, 1000, 1000)\n",
        "print(\"Ürün fiyatları: \", product_prices)"
      ]
    },
    {
      "cell_type": "code",
      "execution_count": 78,
      "metadata": {
        "colab": {
          "base_uri": "https://localhost:8080/"
        },
        "id": "5sDXxylWF1rV",
        "outputId": "6a5bfe85-804d-4da7-f082-becd69cecfb6"
      },
      "outputs": [
        {
          "name": "stdout",
          "output_type": "stream",
          "text": [
            "Kategori bazlı satış adetleri (5 kategori):  [4052 1022  932 4447 1544]\n"
          ]
        }
      ],
      "source": [
        "category_sales = np.random.randint(0, 5000, 5)  # 50 ile 500 arasında rastgele satış sayıları\n",
        "print(\"Kategori bazlı satış adetleri (5 kategori): \", category_sales)"
      ]
    },
    {
      "cell_type": "markdown",
      "metadata": {
        "id": "POeikwtFHnsX"
      },
      "source": [
        "Ortalama müşteri harcaması nedir? (mean)"
      ]
    },
    {
      "cell_type": "code",
      "execution_count": 79,
      "metadata": {
        "colab": {
          "base_uri": "https://localhost:8080/"
        },
        "id": "jRAkmcEfGpSJ",
        "outputId": "be98c2dc-e8d5-49d2-8220-a55bbecb335f"
      },
      "outputs": [
        {
          "name": "stdout",
          "output_type": "stream",
          "text": [
            "Ortalama müşteri harcaması:  2583.988\n"
          ]
        }
      ],
      "source": [
        "meanOfCustomerPayments = np.mean(customer_payments)\n",
        "print(\"Ortalama müşteri harcaması: \", meanOfCustomerPayments)"
      ]
    },
    {
      "cell_type": "markdown",
      "metadata": {
        "id": "C6OG_4u6HqyG"
      },
      "source": [
        "En yüksek ve en düşük harcama miktarları nedir? (max, min)"
      ]
    },
    {
      "cell_type": "code",
      "execution_count": 80,
      "metadata": {
        "colab": {
          "base_uri": "https://localhost:8080/"
        },
        "id": "6YIToICcG_OR",
        "outputId": "7d0f7405-0781-47e2-e244-aab83bbfaa00"
      },
      "outputs": [
        {
          "name": "stdout",
          "output_type": "stream",
          "text": [
            "En yüksek harcama miktarı:  4996\n",
            "En düşük harcama miktarı:  52\n"
          ]
        }
      ],
      "source": [
        "max_customer_payment = np.max(customer_payments)\n",
        "min_customer_payment = np.min(customer_payments)\n",
        "\n",
        "print(\"En yüksek harcama miktarı: \", max_customer_payment)\n",
        "print(\"En düşük harcama miktarı: \", min_customer_payment)"
      ]
    },
    {
      "cell_type": "markdown",
      "metadata": {
        "id": "S5Dgn9kxHtsE"
      },
      "source": [
        "Kaç müşteri indirim kullanmıştır? (sum)"
      ]
    },
    {
      "cell_type": "code",
      "execution_count": 82,
      "metadata": {
        "colab": {
          "base_uri": "https://localhost:8080/"
        },
        "id": "RvyD4QtnHQeJ",
        "outputId": "cd737098-aeff-4329-ac77-269910f2c76d"
      },
      "outputs": [
        {
          "name": "stdout",
          "output_type": "stream",
          "text": [
            "İndirim kullanan müşteri sayısı:  504\n"
          ]
        }
      ],
      "source": [
        "has_discount = np.sum(hasOrNot_discount)\n",
        "print(\"İndirim kullanan müşteri sayısı: \", has_discount)"
      ]
    },
    {
      "cell_type": "markdown",
      "metadata": {
        "id": "q2NUk3J1HzXa"
      },
      "source": [
        "İndirim kullanan müşterilerin ortalama harcaması ile indirim kullanmayanların ortalama harcaması arasındaki farkı bulun."
      ]
    },
    {
      "cell_type": "code",
      "execution_count": 84,
      "metadata": {
        "colab": {
          "base_uri": "https://localhost:8080/"
        },
        "id": "wkaX5Gb0Hhij",
        "outputId": "02bca912-9b51-48fd-ba91-15b6df354049"
      },
      "outputs": [
        {
          "name": "stdout",
          "output_type": "stream",
          "text": [
            "İndirim kullananların ortalama harcaması: 2553.8075396825398\n",
            "İndirim kullanmayanların ortalama harcaması: 2614.655241935484\n",
            "Ortalama harcama farkı: -60.847702252944146\n"
          ]
        }
      ],
      "source": [
        "# İndirim kullananlar ve kullanmayanlar\n",
        "discount_customers = customer_payments[hasOrNot_discount == 1]\n",
        "no_discount_customers = customer_payments[hasOrNot_discount == 0]\n",
        "\n",
        "# Ortalama harcamalar\n",
        "avg_discount_spending = np.mean(discount_customers)\n",
        "avg_no_discount_spending = np.mean(no_discount_customers)\n",
        "\n",
        "spending_difference = avg_discount_spending - avg_no_discount_spending\n",
        "\n",
        "print(\"İndirim kullananların ortalama harcaması:\", avg_discount_spending)\n",
        "print(\"İndirim kullanmayanların ortalama harcaması:\", avg_no_discount_spending)\n",
        "print(\"Ortalama harcama farkı:\", spending_difference)\n"
      ]
    },
    {
      "cell_type": "markdown",
      "metadata": {
        "id": "16mDCRZ6If17"
      },
      "source": [
        "Toplam satış gelirini hesaplayın."
      ]
    },
    {
      "cell_type": "code",
      "execution_count": 86,
      "metadata": {
        "colab": {
          "base_uri": "https://localhost:8080/"
        },
        "id": "7Xv9VvCOIgud",
        "outputId": "c5096808-6d1e-43cd-f43c-479c51061541"
      },
      "outputs": [
        {
          "name": "stdout",
          "output_type": "stream",
          "text": [
            "Toplam satış gelirleri:  2459097\n"
          ]
        }
      ],
      "source": [
        "totalSalesIncome = np.sum(product_counts * product_prices)\n",
        "print(\"Toplam satış gelirleri: \", totalSalesIncome)"
      ]
    },
    {
      "cell_type": "markdown",
      "metadata": {
        "id": "SYTE0O8TJLAF"
      },
      "source": [
        "En çok satılan ürünleri ve kategorileri belirleyin."
      ]
    },
    {
      "cell_type": "code",
      "execution_count": 87,
      "metadata": {
        "colab": {
          "base_uri": "https://localhost:8080/"
        },
        "id": "5JVum_LhJKsm",
        "outputId": "a089fdd9-900b-42ed-8055-6e1d8358fb10"
      },
      "outputs": [
        {
          "name": "stdout",
          "output_type": "stream",
          "text": [
            "En çok satılan ürünün indeksi: 0\n",
            "En çok satılan kategorinin indeksi: 3\n"
          ]
        }
      ],
      "source": [
        "\n",
        "\n",
        "# Find the index of the most sold product\n",
        "most_sold_product_index = np.argmax(product_counts)\n",
        "print(f\"En çok satılan ürünün indeksi: {most_sold_product_index}\")\n",
        "\n",
        "# Find the most sold category\n",
        "most_sold_category_index = np.argmax(category_sales)\n",
        "print(f\"En çok satılan kategorinin indeksi: {most_sold_category_index}\")\n"
      ]
    },
    {
      "cell_type": "markdown",
      "metadata": {
        "id": "DRXpDABzLEpw"
      },
      "source": [
        "Satın alınan ürün sayısı ile harcama arasında korelasyon var mı? (np.corrcoef() kullanarak)\n",
        "\n",
        "0'a yakın bir değer verdiği için korelasyon yoktur\n",
        "\n",
        "İki değişken arasında anlamlı bir ilişki yoktur."
      ]
    },
    {
      "cell_type": "code",
      "execution_count": 90,
      "metadata": {
        "colab": {
          "base_uri": "https://localhost:8080/"
        },
        "id": "-sVxE5vhK_1L",
        "outputId": "61548e98-7d57-40ab-9d7e-0a74fde67a6d"
      },
      "outputs": [
        {
          "name": "stdout",
          "output_type": "stream",
          "text": [
            "Satın alınan ürün sayısı ile harcama arasındaki korelasyon katsayısı: 0.022522844970979696\n"
          ]
        }
      ],
      "source": [
        "corr = np.corrcoef(product_counts, customer_payments)[0, 1]\n",
        "print(\"Satın alınan ürün sayısı ile harcama arasındaki korelasyon katsayısı:\", corr)"
      ]
    },
    {
      "cell_type": "markdown",
      "metadata": {
        "id": "6nXVMbMrLyTS"
      },
      "source": [
        "Geçen yılın verilerini rastgele oluşturarak bu yıl ile karşılaştırın."
      ]
    },
    {
      "cell_type": "code",
      "execution_count": 93,
      "metadata": {
        "id": "ALEJe8IWLy81"
      },
      "outputs": [],
      "source": [
        "# Geçen yılın verileri\n",
        "lastyear_customer_payments = np.random.randint(50, 5000, 1000)\n",
        "lastyear_product_counts = np.random.randint(1, 10, 1000)\n",
        "lastyear_hasOrNot_discount = np.random.randint(0, 2, 1000)\n",
        "lastyear_product_prices = np.random.randint(10, 1000, 1000)\n",
        "lastyear_category_sales = np.random.randint(0, 5000, 5)"
      ]
    },
    {
      "cell_type": "code",
      "execution_count": 94,
      "metadata": {
        "colab": {
          "base_uri": "https://localhost:8080/"
        },
        "id": "ouCZZXQRMnU0",
        "outputId": "ef3ee200-4a8f-4be2-f49a-0d9d3e198465"
      },
      "outputs": [
        {
          "name": "stdout",
          "output_type": "stream",
          "text": [
            "Toplam harcama miktarı: 2583988\n",
            "Geçen yılın toplam harcama miktarı: 2483839\n"
          ]
        }
      ],
      "source": [
        "sum_customer_payments = np.sum(customer_payments)\n",
        "print(\"Toplam harcama miktarı:\",sum_customer_payments)\n",
        "sum_lastyear_customer_payments = np.sum(lastyear_customer_payments)\n",
        "print(\"Geçen yılın toplam harcama miktarı:\",sum_lastyear_customer_payments)"
      ]
    },
    {
      "cell_type": "markdown",
      "metadata": {
        "id": "Ytd6XhERM_ZD"
      },
      "source": [
        "Satışlarda ortalama % kaç artış veya azalma olmuş?"
      ]
    },
    {
      "cell_type": "code",
      "execution_count": 95,
      "metadata": {
        "colab": {
          "base_uri": "https://localhost:8080/"
        },
        "id": "k3_Ij5gcM_C7",
        "outputId": "8665653f-f8e8-445f-a821-0e5c7ede0940"
      },
      "outputs": [
        {
          "name": "stdout",
          "output_type": "stream",
          "text": [
            "Satışlarda ortalama % 3.88 değişiklik olmuştur.\n"
          ]
        }
      ],
      "source": [
        "percentage_change = ((sum_customer_payments - sum_lastyear_customer_payments) / sum_customer_payments) * 100\n",
        "\n",
        "print(f\"Satışlarda ortalama % {percentage_change:.2f} değişiklik olmuştur.\")\n"
      ]
    },
    {
      "cell_type": "markdown",
      "metadata": {
        "id": "PfwWyarpN3Ku"
      },
      "source": [
        "Geçen yıl en çok satılan ürün ile bu yıl en çok satılan ürünü karşılaştırın."
      ]
    },
    {
      "cell_type": "code",
      "execution_count": 97,
      "metadata": {
        "colab": {
          "base_uri": "https://localhost:8080/"
        },
        "id": "r7NsXnHsN5Rp",
        "outputId": "eaa3c688-bcd1-44a0-ae40-5c594731ac0d"
      },
      "outputs": [
        {
          "name": "stdout",
          "output_type": "stream",
          "text": [
            "En çok satılan ürünün id numarası: 0\n",
            "Bu yıl en çok satılan ürün sayısı: 9\n",
            "Geçen yılın en çok satılan ürünün id numarası: 5\n",
            "Geçen yıl en çok satılan ürün sayısı: 9\n"
          ]
        }
      ],
      "source": [
        "max_product_counts = np.max(product_counts)\n",
        "max_index = np.argmax(product_counts)\n",
        "\n",
        "max_lastyear_product_counts = np.max(lastyear_product_counts)\n",
        "max_lastyear_index = np.argmax(lastyear_product_counts)\n",
        "\n",
        "\n",
        "print(\"En çok satılan ürünün id numarası:\", max_index)\n",
        "print(\"Bu yıl en çok satılan ürün sayısı:\", max_product_counts)\n",
        "\n",
        "print(\"Geçen yılın en çok satılan ürünün id numarası:\", max_lastyear_index)\n",
        "print(\"Geçen yıl en çok satılan ürün sayısı:\", max_lastyear_product_counts)"
      ]
    },
    {
      "cell_type": "markdown",
      "metadata": {
        "id": "el7ZBZjpO90Y"
      },
      "source": [
        "Elde edilen verilere dayanarak e-ticaret şirketine 3 öneri sunun. (Örneğin, indirimlerin satışlara etkisini değerlendirerek)"
      ]
    },
    {
      "cell_type": "code",
      "execution_count": 98,
      "metadata": {
        "colab": {
          "base_uri": "https://localhost:8080/"
        },
        "id": "CTlp1CGxO-1d",
        "outputId": "c775850f-25e5-4d11-d8b6-2c6fc092f5db"
      },
      "outputs": [
        {
          "name": "stdout",
          "output_type": "stream",
          "text": [
            "Öneri 1: İndirim stratejilerinin gözden geçirilmesi ve belirli ürünlere odaklanması önerilir.\n",
            "Öneri 2: En çok satan ürünlere odaklı pazarlama kampanyaları düzenlenmesi önerilir.\n",
            "Öneri 3: Geçen yıla göre satışlardaki % 3.88’lik değişimi analiz ederek, gelecek için trend analizine dayalı stratejiler geliştirilmesi önerilir.\n"
          ]
        }
      ],
      "source": [
        "# Öneriler:\n",
        "\n",
        "# 1. İndirim stratejilerinin gözden geçirilmesi:\n",
        "# İndirimli satışların ortalama harcamayı artırdığı gözlemlendi. Ancak, bu durumun karlılığa etkisini de değerlendirmek önemlidir.\n",
        "# Önerilen strateji: İndirimli satışları belirli ürün kategorilerine veya düşük stoklu ürünlere odaklayarak,\n",
        "# hem satış hacmini artırmak hem de karlılığı korumak. Mevcut indirim oranları ve süreleri gözden geçirilmeli,\n",
        "# indirimlerin satışlara olan etkisi ayrıntılı bir şekilde analiz edilmeli.\n",
        "print(\"Öneri 1: İndirim stratejilerinin gözden geçirilmesi ve belirli ürünlere odaklanması önerilir.\")\n",
        "\n",
        "\n",
        "# 2. En çok satan ürünlere odaklanarak pazarlama kampanyaları:\n",
        "# Veriler en çok satan ürünleri belirlemede kullanılabilir. Bu ürünlere odaklı pazarlama kampanyaları, satışları artırabilir.\n",
        "# Önerilen strateji: En çok satan ürünler için hedefli reklamlar oluşturulmalı ve promosyonlar düzenlenmelidir.\n",
        "# Ayrıca, bu ürünlerin stok seviyeleri yakından takip edilmeli ve tedarik zinciri yönetimi optimize edilmelidir.\n",
        "print(\"Öneri 2: En çok satan ürünlere odaklı pazarlama kampanyaları düzenlenmesi önerilir.\")\n",
        "\n",
        "\n",
        "# 3. Geçen yılla karşılaştırılması ve trend analizi:\n",
        "# Geçen yıla göre satışlarda %[percentage_change] değişiklik olduğu görüldü. Bu trendin devam edip etmeyeceğini öngörmek ve gelecek satışları tahmin etmek için trend analizi yapılmalı.\n",
        "# Önerilen strateji: Geçen yıl ile bu yıl arasındaki satış verileri detaylı olarak analiz edilmeli,\n",
        "# satışlardaki artış veya azalışın sebepleri araştırılmalı. Bu analiz sonuçlarına göre gelecek yıl için satış tahminleri yapılıp gerekli önlemler alınmalıdır.\n",
        "print(f\"Öneri 3: Geçen yıla göre satışlardaki % {percentage_change:.2f}’lik değişimi analiz ederek, gelecek için trend analizine dayalı stratejiler geliştirilmesi önerilir.\")\n"
      ]
    }
  ],
  "metadata": {
    "colab": {
      "provenance": []
    },
    "kernelspec": {
      "display_name": "Python 3",
      "name": "python3"
    },
    "language_info": {
      "codemirror_mode": {
        "name": "ipython",
        "version": 3
      },
      "file_extension": ".py",
      "mimetype": "text/x-python",
      "name": "python",
      "nbconvert_exporter": "python",
      "pygments_lexer": "ipython3",
      "version": "3.13.2"
    }
  },
  "nbformat": 4,
  "nbformat_minor": 0
}
